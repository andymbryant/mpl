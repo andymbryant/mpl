{
 "cells": [
  {
   "cell_type": "markdown",
   "metadata": {},
   "source": [
    "# A Brief Introduction to Matplotlib\n",
    "### Powered by Pandas!\n",
    "\n",
    "In this notebook, we will cover the basics of Matplotlib, a powerful, prolific library \n",
    "for organizing and visualizing data of all kinds. If you work in science, chances are you'll\n",
    "find a usecase for this. Enjoy!\n",
    "\n",
    "To start, let's import pyplot from Matplotlib."
   ]
  },
  {
   "cell_type": "code",
   "execution_count": 8,
   "metadata": {},
   "outputs": [],
   "source": [
    "import matplotlib.pyplot as plt"
   ]
  },
  {
   "cell_type": "markdown",
   "metadata": {},
   "source": [
    "Now, let's make our first plot - a line graph! We're going to visualize data related to CO2 emissions."
   ]
  },
  {
   "cell_type": "code",
   "execution_count": 62,
   "metadata": {},
   "outputs": [],
   "source": [
    "# Years covered by the data\n",
    "years = [2004, 2005, 2006, 2007, 2008, 2009, 2010, 2011, 2012, 2013, 2014]\n",
    "\n",
    "# Emissions data for USA\n",
    "us_emissions = [19.7, 19.6, 19.1, 19.3, 18.5, 17.2, 17.5, 17, 16.3, 16.4, 16.5]\n",
    "\n",
    "# Emissions data for India\n",
    "india_emissions = [1.03, 1.07, 1.12, 1.19, 1.31, 1.43, 1.4, 1.48, 1.6, 1.59, 1.73]\n",
    "\n",
    "# Emissions data for China\n",
    "china_emissions = [3.98, 4.46, 4.91, 5.26, 5.62, 5.92, 6.45, 7.12, 7.29, 7.42, 7.4]"
   ]
  },
  {
   "cell_type": "markdown",
   "metadata": {},
   "source": [
    "Great! We've got our first plot. Let's keep working with this data and see if we can   \n",
    "rank the top producers emitters of CO2, using a bar chart. But let's not write in our   \n",
    "data by hand. Let's download a file from a URL and work with it locally.\n",
    "\n",
    "First, let's import the requests package (another one you'll see a lot!)."
   ]
  },
  {
   "cell_type": "code",
   "execution_count": null,
   "metadata": {},
   "outputs": [],
   "source": [
    "import requests"
   ]
  },
  {
   "cell_type": "code",
   "execution_count": 57,
   "metadata": {},
   "outputs": [],
   "source": [
    "# URL of data\n",
    "url = 'https://raw.githubusercontent.com/andymbryant/matplotlib-demo/master/co2_emissions_per_capita.csv'"
   ]
  },
  {
   "cell_type": "markdown",
   "metadata": {},
   "source": [
    "Good! We've got the file. Now we need to work with it. Let's use vanilla python to start.  \n",
    "Because this is a csv document, we'll need the csv package. "
   ]
  },
  {
   "cell_type": "code",
   "execution_count": 6,
   "metadata": {},
   "outputs": [],
   "source": [
    "import csv"
   ]
  },
  {
   "cell_type": "code",
   "execution_count": null,
   "metadata": {},
   "outputs": [],
   "source": []
  },
  {
   "cell_type": "markdown",
   "metadata": {},
   "source": [
    "Hmmm... something's not right. This plot might work in the short-term, but when we try and improve it, it falls apart pretty quickly. Pandas to the rescue!  \n",
    "\n",
    "Pandas is an open-source Python library. It has a number of high-performance, easy-to-use data structures, specifically designed for data analysis. Let's take a look."
   ]
  },
  {
   "cell_type": "code",
   "execution_count": 11,
   "metadata": {},
   "outputs": [],
   "source": [
    "import pandas as pd"
   ]
  },
  {
   "cell_type": "code",
   "execution_count": 63,
   "metadata": {},
   "outputs": [],
   "source": [
    "df1 = pd.DataFrame(\n",
    "    [['Jan',58,42,74,22,2.95],\n",
    "     ['Feb',61,45,78,26,3.02],\n",
    "     ['Mar',65,48,84,25,2.34],\n",
    "     ['Apr',67,50,92,28,1.02],\n",
    "     ['May',71,53,98,35,0.48],\n",
    "     ['Jun',75,56,107,41,0.11],\n",
    "     ['Jul',77,58,105,44,0.0],\n",
    "     ['Aug',77,59,102,43,0.03],\n",
    "     ['Sep',77,57,103,40,0.17],\n",
    "     ['Oct',73,54,96,34,0.81],\n",
    "     ['Nov',64,48,84,30,1.7],\n",
    "     ['Dec',58,42,73,21,2.56]],\n",
    "    columns = ['month','avg_high','avg_low','record_high','record_low','avg_precipitation'])\n",
    "\n",
    "df2 = pd.DataFrame(\n",
    "    [['Jan',65,40,80,22,3.1],\n",
    "     ['Feb',65,45,41,29,3.09],\n",
    "     ['Mar',61,48,98,35,2.84],\n",
    "     ['Apr',60,54,91,38,1.84],\n",
    "     ['May',74,43,90,45,0.9],\n",
    "     ['Jun',77,55,101,51,0.19],\n",
    "     ['Jul',78,54,100,52,0.2],\n",
    "     ['Aug',74,52,109,49,0.45],\n",
    "     ['Sep',72,52,101,42,0.87],\n",
    "     ['Oct',77,59,91,44,0.32],\n",
    "     ['Nov',66,51,80,65,1.8],\n",
    "     ['Dec',52,40,74,25,2.9]],\n",
    "    columns = ['month','avg_high','avg_low','record_high','record_low','avg_precipitation'])\n"
   ]
  },
  {
   "cell_type": "code",
   "execution_count": 64,
   "metadata": {},
   "outputs": [],
   "source": [
    "# Declare the year\n",
    "year = '2004'"
   ]
  },
  {
   "cell_type": "code",
   "execution_count": 59,
   "metadata": {},
   "outputs": [],
   "source": [
    "# URL of data\n",
    "url = 'https://raw.githubusercontent.com/andymbryant/matplotlib-demo/master/co2_emissions_by_year.csv'"
   ]
  },
  {
   "cell_type": "code",
   "execution_count": 65,
   "metadata": {},
   "outputs": [],
   "source": [
    "# Declare the year\n",
    "year = '2014'"
   ]
  },
  {
   "cell_type": "markdown",
   "metadata": {},
   "source": [
    "Looking good! Now for a bonus: let's play around with NumPy and figures in Matplotlib."
   ]
  },
  {
   "cell_type": "code",
   "execution_count": 57,
   "metadata": {},
   "outputs": [],
   "source": [
    "import numpy as np"
   ]
  },
  {
   "cell_type": "code",
   "execution_count": null,
   "metadata": {},
   "outputs": [],
   "source": []
  },
  {
   "cell_type": "code",
   "execution_count": null,
   "metadata": {},
   "outputs": [],
   "source": []
  }
 ],
 "metadata": {
  "kernelspec": {
   "display_name": "Python 3",
   "language": "python",
   "name": "python3"
  },
  "language_info": {
   "codemirror_mode": {
    "name": "ipython",
    "version": 3
   },
   "file_extension": ".py",
   "mimetype": "text/x-python",
   "name": "python",
   "nbconvert_exporter": "python",
   "pygments_lexer": "ipython3",
   "version": "3.7.3"
  }
 },
 "nbformat": 4,
 "nbformat_minor": 4
}
